{
 "cells": [
  {
   "cell_type": "code",
   "execution_count": 1,
   "metadata": {},
   "outputs": [],
   "source": [
    "#coding:utf-8\n",
    "\n",
    "# 使用微博热点页面的 cookie 和 UA 设置 header，请求页面并保存\n",
    "\n",
    "import requests as rq"
   ]
  },
  {
   "cell_type": "code",
   "execution_count": 5,
   "metadata": {},
   "outputs": [],
   "source": [
    "url = \"https://weibo.com/a/hot/realtime\"\n",
    "headers = {\"user-agent\":\"Mozilla/5.0 (Macintosh; Intel Mac OS X 10_14_2) AppleWebKit/537.36 (KHTML, like Gecko) Chrome/76.0.3809.100 Safari/537.3\",\n",
    "           \"cookie\":\"_s_tentry=www.123haitao.com; Apache=8709466112777.591.1398859096564; SINAGLOBAL=8709466112777.591.1398859096564; login_sid_t=4d5be681563f586b9765aeb68766c10a; YF-Ugrow-G0=57484c7c1ded49566c905773d5d00f82; cross_origin_proto=SSL; SSOLoginState=1523546599; YF-Page-G0=5c7144e56a57a456abed1d1511ad79e8; _ga=GA1.2.1906609243.1529587697; SCF=AohPAlourzVb4mdziZZy93G0OSX_YX7ns4ETwp7vuZD-0jFGAlz4rK-g8qlHw5lk7mRujSclnCg_ON6oJ2KjCU8.; UOR=www.123haitao.com,widget.weibo.com,news.ifeng.com; SUB=_2AkMqL-PFf8NxqwJRmPwdz2njbIt-yAvEieKccxIeJRMxHRl-yj83qkMotRB6Aa_NKsk_QWmP9SdfL8BColm9JvYoCNcE; SUBP=0033WrSXqPxfM72-Ws9jqgMF55529P9D9WFSbHOoHWfbUW6bARJylymW; YF-V5-G0=f0aa2e6d566ccd1c288fae19df01df56; WBStorage=f54cf4e4362237da|undefined; Ugrow-G0=d52660735d1ea4ed313e0beb68c05fc5\"}\n",
    "\n",
    "r = rq.get(url, headers = headers)\n",
    "\n",
    "with open(\"weibo.html\", \"w\") as wf:\n",
    "    wf.write(r.text)"
   ]
  },
  {
   "cell_type": "code",
   "execution_count": null,
   "metadata": {},
   "outputs": [],
   "source": []
  }
 ],
 "metadata": {
  "kernelspec": {
   "display_name": "Python 3",
   "language": "python",
   "name": "python3"
  },
  "language_info": {
   "codemirror_mode": {
    "name": "ipython",
    "version": 3
   },
   "file_extension": ".py",
   "mimetype": "text/x-python",
   "name": "python",
   "nbconvert_exporter": "python",
   "pygments_lexer": "ipython3",
   "version": "3.7.3"
  }
 },
 "nbformat": 4,
 "nbformat_minor": 2
}
