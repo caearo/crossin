{
 "cells": [
  {
   "cell_type": "code",
   "execution_count": null,
   "metadata": {},
   "outputs": [],
   "source": [
    "# coing:utf-8\n",
    "\n",
    "import requests as rq\n",
    "\n",
    "\n",
    "while True:\n",
    "    city = input(\"请输入想要查询的城市名称：\\n（默认查询北京市天气，输入 exit 退出）\\n\")\n",
    "    \n",
    "    if city == \"exit\":\n",
    "        break\n",
    "    elif city.strip() == \"\":\n",
    "        city = \"北京市\"\n",
    "        \n",
    "    try:\n",
    "        req = rq.get(\"http://wthrcdn.etouch.cn/weather_mini?city=%s\" % city)\n",
    "    except:\n",
    "        print(\"查询失败，请重试\\n\")\n",
    "    \n",
    "    res_json = req.json()\n",
    "    \n",
    "    if 1000 != res_json[\"status\"]:\n",
    "        print (\"查询异常，请换一个城市\\n\")\n",
    "    else:\n",
    "        print (\"当前查询城市：%s\" % city)\n",
    "        for item in res_json[\"data\"][\"forecast\"]:\n",
    "            print(\"%s : 天气%s, %s, %s, 风力%s, %s\" % (item[\"date\"], item[\"type\"], item[\"high\"], item[\"low\"], item[\"fengli\"], item[\"fengxiang\"]))"
   ]
  },
  {
   "cell_type": "code",
   "execution_count": null,
   "metadata": {},
   "outputs": [],
   "source": []
  }
 ],
 "metadata": {
  "kernelspec": {
   "display_name": "Python 3",
   "language": "python",
   "name": "python3"
  },
  "language_info": {
   "codemirror_mode": {
    "name": "ipython",
    "version": 3
   },
   "file_extension": ".py",
   "mimetype": "text/x-python",
   "name": "python",
   "nbconvert_exporter": "python",
   "pygments_lexer": "ipython3",
   "version": "3.7.3"
  }
 },
 "nbformat": 4,
 "nbformat_minor": 2
}
