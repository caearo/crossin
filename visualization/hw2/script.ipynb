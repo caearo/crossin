{
 "cells": [
  {
   "cell_type": "markdown",
   "metadata": {},
   "source": [
    "## 任务"
   ]
  },
  {
   "cell_type": "code",
   "execution_count": 13,
   "metadata": {},
   "outputs": [],
   "source": [
    "import pandas as pd\n",
    "\n",
    "import matplotlib.pyplot as plt"
   ]
  },
  {
   "cell_type": "code",
   "execution_count": 3,
   "metadata": {},
   "outputs": [
    {
     "data": {
      "text/html": [
       "<div>\n",
       "<style scoped>\n",
       "    .dataframe tbody tr th:only-of-type {\n",
       "        vertical-align: middle;\n",
       "    }\n",
       "\n",
       "    .dataframe tbody tr th {\n",
       "        vertical-align: top;\n",
       "    }\n",
       "\n",
       "    .dataframe thead th {\n",
       "        text-align: right;\n",
       "    }\n",
       "</style>\n",
       "<table border=\"1\" class=\"dataframe\">\n",
       "  <thead>\n",
       "    <tr style=\"text-align: right;\">\n",
       "      <th></th>\n",
       "      <th>简介（方式·小区名 户型 朝向）</th>\n",
       "      <th>区</th>\n",
       "      <th>地铁站</th>\n",
       "      <th>村</th>\n",
       "      <th>面积大小（㎡）</th>\n",
       "      <th>朝向</th>\n",
       "      <th>户型</th>\n",
       "      <th>楼层类型</th>\n",
       "      <th>楼层（层）</th>\n",
       "      <th>标签</th>\n",
       "    </tr>\n",
       "  </thead>\n",
       "  <tbody>\n",
       "    <tr>\n",
       "      <td>0</td>\n",
       "      <td>整租·长桥一村 1室0厅 南</td>\n",
       "      <td>徐汇</td>\n",
       "      <td>长桥</td>\n",
       "      <td>长桥一村</td>\n",
       "      <td>39</td>\n",
       "      <td>南</td>\n",
       "      <td>1室0厅1卫</td>\n",
       "      <td>高楼层</td>\n",
       "      <td>6</td>\n",
       "      <td>随时看房</td>\n",
       "    </tr>\n",
       "    <tr>\n",
       "      <td>1</td>\n",
       "      <td>整租·馨宁公寓 1室1厅 南</td>\n",
       "      <td>徐汇</td>\n",
       "      <td>华泾</td>\n",
       "      <td>馨宁公寓</td>\n",
       "      <td>42</td>\n",
       "      <td>南</td>\n",
       "      <td>1室1厅1卫</td>\n",
       "      <td>高楼层</td>\n",
       "      <td>29</td>\n",
       "      <td>精装,随时看房</td>\n",
       "    </tr>\n",
       "  </tbody>\n",
       "</table>\n",
       "</div>"
      ],
      "text/plain": [
       "  简介（方式·小区名 户型 朝向）   区 地铁站     村  面积大小（㎡） 朝向      户型  \\\n",
       "0   整租·长桥一村 1室0厅 南  徐汇  长桥  长桥一村       39  南  1室0厅1卫   \n",
       "1   整租·馨宁公寓 1室1厅 南  徐汇  华泾  馨宁公寓       42  南  1室1厅1卫   \n",
       "\n",
       "                          楼层类型  楼层（层）       标签  \n",
       "0  高楼层                              6     随时看房  \n",
       "1  高楼层                             29  精装,随时看房  "
      ]
     },
     "execution_count": 3,
     "metadata": {},
     "output_type": "execute_result"
    }
   ],
   "source": [
    "# 读取 CSV 格式文件“task_2_lianjia_data.csv”，将数据命名为 lianjia_data，并选取前部数据查看(阅读 参考文章 1、2);\n",
    "\n",
    "lianjia_data = pd.read_csv('task_2_lianjia_data.csv')\n",
    "lianjia_data.head(2)"
   ]
  },
  {
   "cell_type": "code",
   "execution_count": 29,
   "metadata": {},
   "outputs": [
    {
     "data": {
      "text/html": [
       "<div>\n",
       "<style scoped>\n",
       "    .dataframe tbody tr th:only-of-type {\n",
       "        vertical-align: middle;\n",
       "    }\n",
       "\n",
       "    .dataframe tbody tr th {\n",
       "        vertical-align: top;\n",
       "    }\n",
       "\n",
       "    .dataframe thead th {\n",
       "        text-align: right;\n",
       "    }\n",
       "</style>\n",
       "<table border=\"1\" class=\"dataframe\">\n",
       "  <thead>\n",
       "    <tr style=\"text-align: right;\">\n",
       "      <th></th>\n",
       "      <th>房源数量</th>\n",
       "    </tr>\n",
       "    <tr>\n",
       "      <th>面积大小（㎡）</th>\n",
       "      <th></th>\n",
       "    </tr>\n",
       "  </thead>\n",
       "  <tbody>\n",
       "    <tr>\n",
       "      <td>7</td>\n",
       "      <td>1</td>\n",
       "    </tr>\n",
       "    <tr>\n",
       "      <td>9</td>\n",
       "      <td>3</td>\n",
       "    </tr>\n",
       "    <tr>\n",
       "      <td>10</td>\n",
       "      <td>1</td>\n",
       "    </tr>\n",
       "    <tr>\n",
       "      <td>11</td>\n",
       "      <td>1</td>\n",
       "    </tr>\n",
       "    <tr>\n",
       "      <td>12</td>\n",
       "      <td>1</td>\n",
       "    </tr>\n",
       "    <tr>\n",
       "      <td>...</td>\n",
       "      <td>...</td>\n",
       "    </tr>\n",
       "    <tr>\n",
       "      <td>152</td>\n",
       "      <td>1</td>\n",
       "    </tr>\n",
       "    <tr>\n",
       "      <td>155</td>\n",
       "      <td>1</td>\n",
       "    </tr>\n",
       "    <tr>\n",
       "      <td>162</td>\n",
       "      <td>1</td>\n",
       "    </tr>\n",
       "    <tr>\n",
       "      <td>171</td>\n",
       "      <td>1</td>\n",
       "    </tr>\n",
       "    <tr>\n",
       "      <td>172</td>\n",
       "      <td>1</td>\n",
       "    </tr>\n",
       "  </tbody>\n",
       "</table>\n",
       "<p>123 rows × 1 columns</p>\n",
       "</div>"
      ],
      "text/plain": [
       "         房源数量\n",
       "面积大小（㎡）      \n",
       "7           1\n",
       "9           3\n",
       "10          1\n",
       "11          1\n",
       "12          1\n",
       "...       ...\n",
       "152         1\n",
       "155         1\n",
       "162         1\n",
       "171         1\n",
       "172         1\n",
       "\n",
       "[123 rows x 1 columns]"
      ]
     },
     "execution_count": 29,
     "metadata": {},
     "output_type": "execute_result"
    }
   ],
   "source": [
    "# 利用 groupby 函数，以【面积大小(m²)】字段进行 groupby，统计各个面积下的【房源数量】情况(阅读参考 文章 3、4);\n",
    "\n",
    "lianjia_data.groupby(['面积大小（㎡）'])['区'].agg(房源数量 = ('count'))"
   ]
  },
  {
   "cell_type": "code",
   "execution_count": 164,
   "metadata": {},
   "outputs": [
    {
     "data": {
      "image/png": "[encoded data removed]",
      "text/plain": [
       "<Figure size 432x288 with 1 Axes>"
      ]
     },
     "metadata": {
      "needs_background": "light"
     },
     "output_type": "display_data"
    }
   ],
   "source": [
    "# 将第(2)问所统计数据，作折线图和条形图，并得出相关结论(阅读参考文章 5、6)，\n",
    "# 提示:先提取第(2)问 所得数据表的 index 索引，饼转化成list;再提取【房源数量】的值转成 list(阅读参考文章 7、8);\n",
    "data = lianjia_data.groupby(['面积大小（㎡）'])['区'].agg(房源数量 = ('count'))\n",
    "\n",
    "data_dic = {'dimx':data.index.values, 'dimy':data.房源数量.values}\n",
    "\n",
    "ax = plt.subplot(111)\n",
    "\n",
    "ax.plot('dimx', 'dimy', 'c',data = data_dic)\n",
    "\n",
    "ax.bar(data_dic['dimx'], data_dic['dimy'], color = 'khaki')\n",
    "\n",
    "plt.show()"
   ]
  },
  {
   "cell_type": "markdown",
   "metadata": {},
   "source": [
    "**结论**\n",
    "1. 两种图形都可大致看出，面积在 30 至 50 平的房源数量占大多数；\n",
    "2. 条形图可反映出房源面积分布的不连续性。面积大于 100 平方米的房源少，且面积规格分布更加不连续。"
   ]
  },
  {
   "cell_type": "code",
   "execution_count": 81,
   "metadata": {},
   "outputs": [
    {
     "data": {
      "text/html": [
       "<div>\n",
       "<style scoped>\n",
       "    .dataframe tbody tr th:only-of-type {\n",
       "        vertical-align: middle;\n",
       "    }\n",
       "\n",
       "    .dataframe tbody tr th {\n",
       "        vertical-align: top;\n",
       "    }\n",
       "\n",
       "    .dataframe thead th {\n",
       "        text-align: right;\n",
       "    }\n",
       "</style>\n",
       "<table border=\"1\" class=\"dataframe\">\n",
       "  <thead>\n",
       "    <tr style=\"text-align: right;\">\n",
       "      <th></th>\n",
       "      <th>房源数量</th>\n",
       "    </tr>\n",
       "    <tr>\n",
       "      <th>区</th>\n",
       "      <th></th>\n",
       "    </tr>\n",
       "  </thead>\n",
       "  <tbody>\n",
       "    <tr>\n",
       "      <td>嘉定</td>\n",
       "      <td>6</td>\n",
       "    </tr>\n",
       "    <tr>\n",
       "      <td>奉贤</td>\n",
       "      <td>1</td>\n",
       "    </tr>\n",
       "    <tr>\n",
       "      <td>徐汇</td>\n",
       "      <td>126</td>\n",
       "    </tr>\n",
       "    <tr>\n",
       "      <td>普陀</td>\n",
       "      <td>22</td>\n",
       "    </tr>\n",
       "    <tr>\n",
       "      <td>杨浦</td>\n",
       "      <td>56</td>\n",
       "    </tr>\n",
       "    <tr>\n",
       "      <td>松江</td>\n",
       "      <td>45</td>\n",
       "    </tr>\n",
       "    <tr>\n",
       "      <td>浦东</td>\n",
       "      <td>106</td>\n",
       "    </tr>\n",
       "    <tr>\n",
       "      <td>虹口</td>\n",
       "      <td>24</td>\n",
       "    </tr>\n",
       "    <tr>\n",
       "      <td>长宁</td>\n",
       "      <td>86</td>\n",
       "    </tr>\n",
       "    <tr>\n",
       "      <td>闵行</td>\n",
       "      <td>86</td>\n",
       "    </tr>\n",
       "    <tr>\n",
       "      <td>青浦</td>\n",
       "      <td>10</td>\n",
       "    </tr>\n",
       "    <tr>\n",
       "      <td>静安</td>\n",
       "      <td>108</td>\n",
       "    </tr>\n",
       "    <tr>\n",
       "      <td>黄浦</td>\n",
       "      <td>76</td>\n",
       "    </tr>\n",
       "  </tbody>\n",
       "</table>\n",
       "</div>"
      ],
      "text/plain": [
       "    房源数量\n",
       "区       \n",
       "嘉定     6\n",
       "奉贤     1\n",
       "徐汇   126\n",
       "普陀    22\n",
       "杨浦    56\n",
       "松江    45\n",
       "浦东   106\n",
       "虹口    24\n",
       "长宁    86\n",
       "闵行    86\n",
       "青浦    10\n",
       "静安   108\n",
       "黄浦    76"
      ]
     },
     "execution_count": 81,
     "metadata": {},
     "output_type": "execute_result"
    }
   ],
   "source": [
    "# 利用 groupby 函数，以【区】字段进行 groupby，统计各个上海各个“区”所属的【房源数量】情况;\n",
    "\n",
    "lianjia_data.groupby(['区'])['村'].agg(房源数量 = ('count'))"
   ]
  },
  {
   "cell_type": "code",
   "execution_count": 116,
   "metadata": {},
   "outputs": [
    {
     "data": {
      "image/png": "[encoded data removed]",
      "text/plain": [
       "<Figure size 432x288 with 1 Axes>"
      ]
     },
     "metadata": {
      "needs_background": "light"
     },
     "output_type": "display_data"
    }
   ],
   "source": [
    "# 将第(4)问所统计数据，作条形图，并得出相关结论;\n",
    "\n",
    "data = lianjia_data.groupby(['区'])['村'].agg(房源数量 = ('count')).sort_values(by = '房源数量', ascending = False)\n",
    "\n",
    "data_dic = {'dimx':data.index.values, 'dimy':data.房源数量.values}\n",
    "\n",
    "plt.bar(data_dic['dimx'], data_dic['dimy'], facecolor = 'lightskyblue')\n",
    "\n",
    "plt.rcParams['font.sans-serif'] = ['SimHei']\n",
    "\n",
    "plt.show()"
   ]
  },
  {
   "cell_type": "markdown",
   "metadata": {},
   "source": [
    "**结论**\n",
    "\n",
    "各区域的房源数量可以在图中看出，徐汇区最多，奉贤区最少。"
   ]
  },
  {
   "cell_type": "code",
   "execution_count": 119,
   "metadata": {},
   "outputs": [
    {
     "data": {
      "text/html": [
       "<div>\n",
       "<style scoped>\n",
       "    .dataframe tbody tr th:only-of-type {\n",
       "        vertical-align: middle;\n",
       "    }\n",
       "\n",
       "    .dataframe tbody tr th {\n",
       "        vertical-align: top;\n",
       "    }\n",
       "\n",
       "    .dataframe thead th {\n",
       "        text-align: right;\n",
       "    }\n",
       "</style>\n",
       "<table border=\"1\" class=\"dataframe\">\n",
       "  <thead>\n",
       "    <tr style=\"text-align: right;\">\n",
       "      <th></th>\n",
       "      <th>房源数量</th>\n",
       "    </tr>\n",
       "    <tr>\n",
       "      <th>楼层类型</th>\n",
       "      <th></th>\n",
       "    </tr>\n",
       "  </thead>\n",
       "  <tbody>\n",
       "    <tr>\n",
       "      <td>中楼层</td>\n",
       "      <td>231</td>\n",
       "    </tr>\n",
       "    <tr>\n",
       "      <td>低楼层</td>\n",
       "      <td>146</td>\n",
       "    </tr>\n",
       "    <tr>\n",
       "      <td>地下室</td>\n",
       "      <td>5</td>\n",
       "    </tr>\n",
       "    <tr>\n",
       "      <td>高楼层</td>\n",
       "      <td>370</td>\n",
       "    </tr>\n",
       "  </tbody>\n",
       "</table>\n",
       "</div>"
      ],
      "text/plain": [
       "                             房源数量\n",
       "楼层类型                             \n",
       "中楼层                           231\n",
       "低楼层                           146\n",
       "地下室                             5\n",
       "高楼层                           370"
      ]
     },
     "execution_count": 119,
     "metadata": {},
     "output_type": "execute_result"
    }
   ],
   "source": [
    "# 利用 groupby 函数，以【楼层类型】字段进行 groupby，统计各个楼层所属的【房源数量】情况;\n",
    "\n",
    "lianjia_data.groupby(['楼层类型']).区.agg(房源数量 = ('count'))"
   ]
  },
  {
   "cell_type": "code",
   "execution_count": 163,
   "metadata": {},
   "outputs": [
    {
     "data": {
      "text/plain": [
       "([<matplotlib.patches.Wedge at 0x2235273ac08>,\n",
       "  <matplotlib.patches.Wedge at 0x22352746388>,\n",
       "  <matplotlib.patches.Wedge at 0x22352746c08>,\n",
       "  <matplotlib.patches.Wedge at 0x2235274f508>],\n",
       " [Text(-0.022975403556081526, 1.0997600332942798, '地下室'),\n",
       "  Text(-0.6672044718785995, 0.8745502802613462, '低楼层'),\n",
       "  Text(-0.8717552947227205, -0.6708522237593781, '中楼层'),\n",
       "  Text(1.0996544534075032, 0.027569604658851724, '高楼层')],\n",
       " [Text(-0.012532038303317195, 0.5998691090696071, '0.7%'),\n",
       "  Text(-0.36392971193378154, 0.4770274255970979, '19.4%'),\n",
       "  Text(-0.4755028880305748, -0.3659193947778426, '30.7%'),\n",
       "  Text(0.5998115200404562, 0.015037966177555484, '49.2%')])"
      ]
     },
     "execution_count": 163,
     "metadata": {},
     "output_type": "execute_result"
    },
    {
     "data": {
      "image/png": "[encoded data removed]",
      "text/plain": [
       "<Figure size 432x288 with 1 Axes>"
      ]
     },
     "metadata": {},
     "output_type": "display_data"
    }
   ],
   "source": [
    "# 将第(6)问所统计数据，作饼图(阅读参考文章 9)，并得出相关结论。\n",
    "\n",
    "data = lianjia_data.groupby(['楼层类型']).区.agg(房源数量 = ('count')).sort_values(by = '房源数量', ascending = True)\n",
    "\n",
    "plt.pie(data.房源数量,\n",
    "        labels = [i.strip() for i in data.index.tolist()],\n",
    "        startangle = 90,\n",
    "        colors=('lightpink', 'khaki', 'lightseagreen', 'steelblue'),\n",
    "        autopct = '%.1f%%')"
   ]
  },
  {
   "cell_type": "markdown",
   "metadata": {},
   "source": [
    "**结论**\n",
    "\n",
    "高楼层房房源最多，占比 49.2%；地下室房源最少，占比 0.7%。"
   ]
  }
 ],
 "metadata": {
  "kernelspec": {
   "display_name": "Python 3",
   "language": "python",
   "name": "python3"
  },
  "language_info": {
   "codemirror_mode": {
    "name": "ipython",
    "version": 3
   },
   "file_extension": ".py",
   "mimetype": "text/x-python",
   "name": "python",
   "nbconvert_exporter": "python",
   "pygments_lexer": "ipython3",
   "version": "3.7.4"
  }
 },
 "nbformat": 4,
 "nbformat_minor": 4
}
